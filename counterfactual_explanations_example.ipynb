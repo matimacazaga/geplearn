{
 "cells": [
  {
   "cell_type": "code",
   "execution_count": 1,
   "metadata": {},
   "outputs": [],
   "source": [
    "from geplearn.counterfactual_explanations import CounterfactualExplainer\n",
    "from sklearn.preprocessing import OrdinalEncoder\n",
    "import pandas as pd\n",
    "from sklearn.ensemble import RandomForestClassifier\n",
    "from sklearn.metrics import f1_score, accuracy_score"
   ]
  },
  {
   "cell_type": "code",
   "execution_count": 2,
   "metadata": {},
   "outputs": [],
   "source": [
    "data = pd.read_csv(\"./datasets/titanic.csv\")\n",
    "data.drop([\"PassengerId\", \"Name\", \"Parch\", \"Ticket\", \"Cabin\"], axis=1, inplace=True)\n",
    "X = data.dropna().copy().drop(\"Survived\", axis=1)\n",
    "y = data.dropna().copy().loc[:, \"Survived\"]"
   ]
  },
  {
   "cell_type": "code",
   "execution_count": 3,
   "metadata": {},
   "outputs": [
    {
     "data": {
      "text/html": [
       "<div>\n",
       "<style scoped>\n",
       "    .dataframe tbody tr th:only-of-type {\n",
       "        vertical-align: middle;\n",
       "    }\n",
       "\n",
       "    .dataframe tbody tr th {\n",
       "        vertical-align: top;\n",
       "    }\n",
       "\n",
       "    .dataframe thead th {\n",
       "        text-align: right;\n",
       "    }\n",
       "</style>\n",
       "<table border=\"1\" class=\"dataframe\">\n",
       "  <thead>\n",
       "    <tr style=\"text-align: right;\">\n",
       "      <th></th>\n",
       "      <th>Pclass</th>\n",
       "      <th>Sex</th>\n",
       "      <th>Age</th>\n",
       "      <th>SibSp</th>\n",
       "      <th>Fare</th>\n",
       "      <th>Embarked</th>\n",
       "    </tr>\n",
       "  </thead>\n",
       "  <tbody>\n",
       "    <tr>\n",
       "      <th>0</th>\n",
       "      <td>2.0</td>\n",
       "      <td>1.0</td>\n",
       "      <td>22.0</td>\n",
       "      <td>1</td>\n",
       "      <td>7.2500</td>\n",
       "      <td>2.0</td>\n",
       "    </tr>\n",
       "    <tr>\n",
       "      <th>1</th>\n",
       "      <td>0.0</td>\n",
       "      <td>0.0</td>\n",
       "      <td>38.0</td>\n",
       "      <td>1</td>\n",
       "      <td>71.2833</td>\n",
       "      <td>0.0</td>\n",
       "    </tr>\n",
       "    <tr>\n",
       "      <th>2</th>\n",
       "      <td>2.0</td>\n",
       "      <td>0.0</td>\n",
       "      <td>26.0</td>\n",
       "      <td>0</td>\n",
       "      <td>7.9250</td>\n",
       "      <td>2.0</td>\n",
       "    </tr>\n",
       "    <tr>\n",
       "      <th>3</th>\n",
       "      <td>0.0</td>\n",
       "      <td>0.0</td>\n",
       "      <td>35.0</td>\n",
       "      <td>1</td>\n",
       "      <td>53.1000</td>\n",
       "      <td>2.0</td>\n",
       "    </tr>\n",
       "    <tr>\n",
       "      <th>4</th>\n",
       "      <td>2.0</td>\n",
       "      <td>1.0</td>\n",
       "      <td>35.0</td>\n",
       "      <td>0</td>\n",
       "      <td>8.0500</td>\n",
       "      <td>2.0</td>\n",
       "    </tr>\n",
       "  </tbody>\n",
       "</table>\n",
       "</div>"
      ],
      "text/plain": [
       "   Pclass  Sex   Age  SibSp     Fare  Embarked\n",
       "0     2.0  1.0  22.0      1   7.2500       2.0\n",
       "1     0.0  0.0  38.0      1  71.2833       0.0\n",
       "2     2.0  0.0  26.0      0   7.9250       2.0\n",
       "3     0.0  0.0  35.0      1  53.1000       2.0\n",
       "4     2.0  1.0  35.0      0   8.0500       2.0"
      ]
     },
     "execution_count": 3,
     "metadata": {},
     "output_type": "execute_result"
    }
   ],
   "source": [
    "encoder = OrdinalEncoder()\n",
    "\n",
    "categorical_cols = [\"Pclass\", \"Sex\", \"Embarked\"]\n",
    "categorical_features_indexes = [X.columns.get_loc(col) for col in categorical_cols]\n",
    "\n",
    "count_cols = [\"SibSp\"]\n",
    "count_features_indexes = [X.columns.get_loc(col) for col in count_cols]\n",
    "\n",
    "continuous_cols = [\"Fare\", \"Age\"]\n",
    "continuous_features_indexes = [X.columns.get_loc(col) for col in continuous_cols]\n",
    "\n",
    "X.loc[:, categorical_cols] = encoder.fit_transform(X.loc[:, categorical_cols])\n",
    "X.head()"
   ]
  },
  {
   "cell_type": "code",
   "execution_count": 4,
   "metadata": {},
   "outputs": [],
   "source": [
    "categorical_features_values = {\n",
    "    i: X.iloc[:, i].unique().tolist()\n",
    "    for i in categorical_features_indexes\n",
    "}\n",
    "\n",
    "count_features_range = {\n",
    "    i: (X.iloc[:, i].min(), X.iloc[:, i].max())\n",
    "    for i in count_features_indexes\n",
    "}\n",
    "\n",
    "continuous_features_range = {\n",
    "    i: (X.iloc[:, i].min(), X.iloc[:, i].max())\n",
    "    for i in continuous_features_indexes\n",
    "}"
   ]
  },
  {
   "cell_type": "code",
   "execution_count": 5,
   "metadata": {},
   "outputs": [
    {
     "data": {
      "text/plain": [
       "RandomForestClassifier()"
      ]
     },
     "execution_count": 5,
     "metadata": {},
     "output_type": "execute_result"
    }
   ],
   "source": [
    "rf = RandomForestClassifier()\n",
    "rf.fit(X.values, y.values)"
   ]
  },
  {
   "cell_type": "code",
   "execution_count": 6,
   "metadata": {},
   "outputs": [
    {
     "name": "stdout",
     "output_type": "stream",
     "text": [
      "0.9859550561797753 0.9823943661971831\n"
     ]
    }
   ],
   "source": [
    "print(accuracy_score(y.values, rf.predict(X)), f1_score(y.values, rf.predict(X)))"
   ]
  },
  {
   "cell_type": "code",
   "execution_count": 12,
   "metadata": {},
   "outputs": [],
   "source": [
    "explainer = CounterfactualExplainer(\n",
    "    predict_proba_fn=rf.predict_proba,\n",
    "    X_obs=X.iloc[0].values,\n",
    "    threshold=0.5,\n",
    "    features_names=X.columns.tolist(),\n",
    "    categorical_features_indexes=categorical_features_indexes,\n",
    "    continuous_features_indexes=continuous_features_indexes,\n",
    "    count_features_indexes=count_features_indexes,\n",
    "    categorical_features_values=categorical_features_values,\n",
    "    continuous_features_range=continuous_features_range,\n",
    "    count_features_range=count_features_range,\n",
    "    pop_size=500,\n",
    "    n_hall_of_fame=50,\n",
    "    early_stopping_threshold=0.9,\n",
    "    distance=\"ned\"\n",
    ")"
   ]
  },
  {
   "cell_type": "code",
   "execution_count": 13,
   "metadata": {},
   "outputs": [
    {
     "name": "stderr",
     "output_type": "stream",
     "text": [
      "100%|██████████| 5/5 [00:11<00:00,  2.39s/it]"
     ]
    },
    {
     "name": "stdout",
     "output_type": "stream",
     "text": [
      "Original Observation:\n",
      "Pclass       2.00\n",
      "Sex          1.00\n",
      "Age         22.00\n",
      "SibSp        1.00\n",
      "Fare         7.25\n",
      "Embarked     2.00\n",
      "dtype: float64\n",
      "Best synthetic observation:\n",
      "Pclass      2.000000\n",
      "Sex         1.000000\n",
      "Age         9.570776\n",
      "SibSp       1.000000\n",
      "Fare        2.967629\n",
      "Embarked    2.000000\n",
      "fitness     0.990660\n",
      "Name: 200, dtype: float64\n",
      "Model prediction on synthetic observation: [0.49 0.51]\n"
     ]
    },
    {
     "name": "stderr",
     "output_type": "stream",
     "text": [
      "\n"
     ]
    }
   ],
   "source": [
    "best_individuals = explainer.explain()"
   ]
  },
  {
   "cell_type": "code",
   "execution_count": 14,
   "metadata": {},
   "outputs": [
    {
     "data": {
      "text/html": [
       "<div>\n",
       "<style scoped>\n",
       "    .dataframe tbody tr th:only-of-type {\n",
       "        vertical-align: middle;\n",
       "    }\n",
       "\n",
       "    .dataframe tbody tr th {\n",
       "        vertical-align: top;\n",
       "    }\n",
       "\n",
       "    .dataframe thead th {\n",
       "        text-align: right;\n",
       "    }\n",
       "</style>\n",
       "<table border=\"1\" class=\"dataframe\">\n",
       "  <thead>\n",
       "    <tr style=\"text-align: right;\">\n",
       "      <th></th>\n",
       "      <th>column</th>\n",
       "      <th>feature_importance</th>\n",
       "    </tr>\n",
       "  </thead>\n",
       "  <tbody>\n",
       "    <tr>\n",
       "      <th>4</th>\n",
       "      <td>Fare</td>\n",
       "      <td>13.052632</td>\n",
       "    </tr>\n",
       "    <tr>\n",
       "      <th>2</th>\n",
       "      <td>Age</td>\n",
       "      <td>12.400000</td>\n",
       "    </tr>\n",
       "    <tr>\n",
       "      <th>0</th>\n",
       "      <td>Pclass</td>\n",
       "      <td>6.333333</td>\n",
       "    </tr>\n",
       "    <tr>\n",
       "      <th>1</th>\n",
       "      <td>Sex</td>\n",
       "      <td>5.000000</td>\n",
       "    </tr>\n",
       "    <tr>\n",
       "      <th>3</th>\n",
       "      <td>SibSp</td>\n",
       "      <td>0.666667</td>\n",
       "    </tr>\n",
       "    <tr>\n",
       "      <th>5</th>\n",
       "      <td>Embarked</td>\n",
       "      <td>0.000000</td>\n",
       "    </tr>\n",
       "  </tbody>\n",
       "</table>\n",
       "</div>"
      ],
      "text/plain": [
       "     column  feature_importance\n",
       "4      Fare           13.052632\n",
       "2       Age           12.400000\n",
       "0    Pclass            6.333333\n",
       "1       Sex            5.000000\n",
       "3     SibSp            0.666667\n",
       "5  Embarked            0.000000"
      ]
     },
     "execution_count": 14,
     "metadata": {},
     "output_type": "execute_result"
    }
   ],
   "source": [
    "explainer.feature_importance(best_individuals, X)"
   ]
  }
 ],
 "metadata": {
  "interpreter": {
   "hash": "18120bb8603f8d3adb91ef3e2e221dae2e2101fb75cc9b17b7029092d4b538c8"
  },
  "kernelspec": {
   "display_name": "Python 3.8.5 64-bit ('qbrain': conda)",
   "language": "python",
   "name": "python3"
  },
  "language_info": {
   "codemirror_mode": {
    "name": "ipython",
    "version": 3
   },
   "file_extension": ".py",
   "mimetype": "text/x-python",
   "name": "python",
   "nbconvert_exporter": "python",
   "pygments_lexer": "ipython3",
   "version": "3.8.5"
  },
  "orig_nbformat": 4
 },
 "nbformat": 4,
 "nbformat_minor": 2
}
